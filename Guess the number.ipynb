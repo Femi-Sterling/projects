{
 "cells": [
  {
   "cell_type": "code",
   "execution_count": 1,
   "metadata": {},
   "outputs": [
    {
     "name": "stdout",
     "output_type": "stream",
     "text": [
      "Guess a number in range of 1 and 100: 5\n",
      "Sorry! Your guess is too low. Try again \n",
      "Guess a number in range of 1 and 100: 25\n",
      "Sorry! Your guess is too low. Try again \n",
      "Guess a number in range of 1 and 100: 50\n",
      "Sorry! Your guess is too high. Try again\n",
      "Guess a number in range of 1 and 100: 40\n",
      "Sorry! Your guess is too low. Try again \n",
      "Guess a number in range of 1 and 100: 45\n",
      "Sorry! Your guess is too high. Try again\n",
      "Guess a number in range of 1 and 100: 43\n",
      "Sorry! Your guess is too high. Try again\n",
      "Guess a number in range of 1 and 100: 42\n",
      "Sorry! Your guess is too high. Try again\n",
      "Guess a number in range of 1 and 100: 41\n",
      "Congrats! Your guess is right.\n"
     ]
    }
   ],
   "source": [
    "import random\n",
    "def guess(x):\n",
    "    random_number = random.randint(1,x)\n",
    "    guess = 0\n",
    "    while guess!=random_number:\n",
    "        guess = int(input(f'Guess a number in range of 1 and {x}: '))\n",
    "        if guess < random_number :\n",
    "            print(\"Sorry! Your guess is too low. Try again \")\n",
    "        elif guess>random_number:\n",
    "            print(\"Sorry! Your guess is too high. Try again\")\n",
    "    print(\"Congrats! Your guess is right.\")\n",
    "guess(100)"
   ]
  },
  {
   "cell_type": "code",
   "execution_count": null,
   "metadata": {},
   "outputs": [],
   "source": [
    "import random\n",
    "def computer_guess(x):\n",
    "    low=1\n",
    "    high=x\n",
    "    feedback = ''\n",
    "    while feedback != 'c':\n",
    "        if low != high:\n",
    "            guess = random.randint(low,high)\n",
    "        else:\n",
    "            guess = low\n",
    "        feedback = (\"is {guess} too high(h) or too low(l) or is right(c):\").lower()\n",
    "        if feedback == 'h':\n",
    "            high = guess-1\n",
    "        elif feedback == 'l':\n",
    "            low = guess+1\n",
    "    print(f\"{guess} is the guessed number.\")\n",
    "computer_guess(10)\n",
    "    \n"
   ]
  },
  {
   "cell_type": "code",
   "execution_count": 1,
   "metadata": {},
   "outputs": [
    {
     "name": "stdout",
     "output_type": "stream",
     "text": [
      "Is 3 too high(h) or too low(l) or is right(c):l\n",
      "Is 4 too high(h) or too low(l) or is right(c):l\n",
      "Is 9 too high(h) or too low(l) or is right(c):h\n",
      "Is 8 too high(h) or too low(l) or is right(c):h\n",
      "Is 7 too high(h) or too low(l) or is right(c):h\n",
      "Is 5 too high(h) or too low(l) or is right(c):c\n",
      "5 is the guessed number.\n"
     ]
    }
   ],
   "source": [
    "import random\n",
    "def computer_guess(x):\n",
    "    low = 1\n",
    "    high = x\n",
    "    feedback = ''\n",
    "    while feedback != 'c':\n",
    "        if low != high:\n",
    "            guess = random.randint(low,high)\n",
    "        else:\n",
    "            guess = low\n",
    "        feedback = input(f\"Is {guess} too high(h) or too low(l) or is right(c):\").lower()\n",
    "        if feedback == 'h':\n",
    "            high=guess-1\n",
    "        elif feedback == 'l':\n",
    "            low = guess+1\n",
    "    print(f\"{guess} is the guessed number.\")\n",
    "computer_guess(100)\n",
    "    \n"
   ]
  },
  {
   "cell_type": "code",
   "execution_count": null,
   "metadata": {},
   "outputs": [],
   "source": []
  }
 ],
 "metadata": {
  "kernelspec": {
   "display_name": "Python 3",
   "language": "python",
   "name": "python3"
  },
  "language_info": {
   "codemirror_mode": {
    "name": "ipython",
    "version": 3
   },
   "file_extension": ".py",
   "mimetype": "text/x-python",
   "name": "python",
   "nbconvert_exporter": "python",
   "pygments_lexer": "ipython3",
   "version": "3.8.3"
  }
 },
 "nbformat": 4,
 "nbformat_minor": 4
}
